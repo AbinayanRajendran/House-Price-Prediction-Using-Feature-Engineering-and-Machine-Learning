{
 "cells": [
  {
   "cell_type": "markdown",
   "metadata": {},
   "source": [
    "# Lab 03 - Feature Engineering\n",
    "\n",
    "The ```train.csv``` consits of a House Price dataset collected in USA. In this lab you are expected to use your knowledge in Feature Engineering and train a Machine Learning Algorithm to predict the House Price using this dataset. Each column of the dataset is clearly explained ```data_description.txt```\n",
    "\n",
    "[Orginal Dataset in Kaggle](https://www.kaggle.com/competitions/house-prices-advanced-regression-techniques/data)\n",
    "\n",
    "## Part 01\n",
    "\n",
    "- Check for any missing data in the dataset and get rid of them using an approprite imputation method.\n",
    "- Use label encoding and one hot encoding methods to covert all the categorical features available in the dataset.\n",
    "- Train a Linear Regression model using 80% data from the dataset seperately for each categorical encoding method.\n",
    "- Validate the Linear Regression model using R2 Score for each categorical encoding  method.\n",
    "\n",
    "## Part 02\n",
    "\n",
    "- Check for any missing data in the dataset and get rid of them using an approprite imputation method.\n",
    "- Use an apporopriate categorical encoding method and covert all the categorical features available in the dataset.\n",
    "- Check whether there are outliers in each numerical feature and remove them using an appropriate FACTOR.\n",
    "- Train a Linear Regression model using 80% data from the dataset.\n",
    "- Validate the Linear Regression model using R2 Score. \n",
    "\n",
    "## Part 03\n",
    "\n",
    "- Check for any missing data in the dataset and get rid of them using an approprite imputation method.\n",
    "- Use an apporopriate categorical encoding method and covert all the categorical features available in the dataset.\n",
    "- Use MinMax Sclaing, Standard Scaling and Quantile Transformation methods to scale the numerical features.\n",
    "- Train a Linear Regression model using 80% data from the dataset seperately for each scaling method.\n",
    "- Validate the Linear Regression model using R2 Score seperately for each scaling method. \n",
    "\n",
    "\n",
    "## Part 04\n",
    "\n",
    "- Analyze the influence of the Feature Engineering strategies employed in parts 01, 02, and 03 on the performance (R2 Score) of the Linear Regression model. \n",
    "\n",
    "- Combine the Feature Engineering techniques which have provided the best performances in parts 01, 02, and 03 and preprocess the dataset. <b>Justify your choice with a brief paragraph of 200-400 words.</b> (Include the paragraph in the same Notebook) \n",
    "- Train a Linear Regression model using 80% data from the dataset seperately for each scaling method.\n",
    "- Validate the Linear Regression model using R2 Score. "
   ]
  }
 ],
 "metadata": {
  "kernelspec": {
   "display_name": "Python 3",
   "language": "python",
   "name": "python3"
  },
  "language_info": {
   "codemirror_mode": {
    "name": "ipython",
    "version": 3
   },
   "file_extension": ".py",
   "mimetype": "text/x-python",
   "name": "python",
   "nbconvert_exporter": "python",
   "pygments_lexer": "ipython3",
   "version": "3.8.5"
  }
 },
 "nbformat": 4,
 "nbformat_minor": 4
}
